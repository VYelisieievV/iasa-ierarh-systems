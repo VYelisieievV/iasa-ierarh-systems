{
 "cells": [
  {
   "cell_type": "code",
   "execution_count": 21,
   "metadata": {},
   "outputs": [],
   "source": [
    "import numpy as np\n",
    "import pandas as pd\n",
    "\n",
    "from matplotlib import pyplot as plt\n",
    "from matplotlib import markers\n",
    "import seaborn as sns"
   ]
  },
  {
   "attachments": {},
   "cell_type": "markdown",
   "metadata": {},
   "source": []
  },
  {
   "cell_type": "markdown",
   "metadata": {},
   "source": [
    "<h1>Load the data</h1>"
   ]
  },
  {
   "cell_type": "code",
   "execution_count": 28,
   "metadata": {},
   "outputs": [
    {
     "data": {
      "text/html": [
       "<div>\n",
       "<style scoped>\n",
       "    .dataframe tbody tr th:only-of-type {\n",
       "        vertical-align: middle;\n",
       "    }\n",
       "\n",
       "    .dataframe tbody tr th {\n",
       "        vertical-align: top;\n",
       "    }\n",
       "\n",
       "    .dataframe thead th {\n",
       "        text-align: right;\n",
       "    }\n",
       "</style>\n",
       "<table border=\"1\" class=\"dataframe\">\n",
       "  <thead>\n",
       "    <tr style=\"text-align: right;\">\n",
       "      <th></th>\n",
       "      <th>Education</th>\n",
       "      <th>Experience</th>\n",
       "    </tr>\n",
       "  </thead>\n",
       "  <tbody>\n",
       "    <tr>\n",
       "      <th>Candidate_1</th>\n",
       "      <td>5</td>\n",
       "      <td>3</td>\n",
       "    </tr>\n",
       "    <tr>\n",
       "      <th>Candidate_2</th>\n",
       "      <td>4</td>\n",
       "      <td>5</td>\n",
       "    </tr>\n",
       "    <tr>\n",
       "      <th>Candidate_3</th>\n",
       "      <td>2</td>\n",
       "      <td>2</td>\n",
       "    </tr>\n",
       "  </tbody>\n",
       "</table>\n",
       "</div>"
      ],
      "text/plain": [
       "             Education  Experience\n",
       "Candidate_1          5           3\n",
       "Candidate_2          4           5\n",
       "Candidate_3          2           2"
      ]
     },
     "execution_count": 28,
     "metadata": {},
     "output_type": "execute_result"
    }
   ],
   "source": [
    "columns = ['Education', 'Experience']\n",
    "rows = ['Candidate_1', 'Candidate_2', 'Candidate_3']\n",
    "values = np.array([[5,3], \n",
    "                   [4,5], \n",
    "                   [2,2]])\n",
    "\n",
    "criterion_weights = pd.Series(data=np.array([0.25, 0.75]), index=columns)\n",
    "data = pd.DataFrame(data=values, index=rows, columns=columns)\n",
    "data"
   ]
  },
  {
   "cell_type": "markdown",
   "metadata": {},
   "source": [
    "<h1>Graphical methods</h1>"
   ]
  },
  {
   "cell_type": "code",
   "execution_count": 33,
   "metadata": {},
   "outputs": [],
   "source": [
    "def weights_distributive(data, weights):\n",
    "    \n",
    "    r = data.sum(axis=0)\n",
    "    alternative_weights = (data / np.repeat(r.values, 4, axis=0).reshape(4, 3)) * weights\n",
    "    alternative_weights = alternative_weights.sum(axis=1)\n",
    "\n",
    "    return alternative_weights\n",
    "\n",
    "def get_diapasons(weights, global_weights, name, closest):\n",
    "    \n",
    "    closest_ = closest.copy()\n",
    "    weight = weights[name]\n",
    "    \n",
    "    closest_['global_left'] = closest_['first'].apply(lambda x: global_weights[x]) \n",
    "    closest_['global_right'] = closest_['second'].apply(lambda x: global_weights[x]) \n",
    "    \n",
    "    closest_column = closest_.groupby(by=['first']).apply(lambda x: pd.concat([x] \\\n",
    "                * len(closest_['first'].unique()))).reset_index(drop=True).drop(columns\\\n",
    "                                                                =['second'])[['first', 'x', 'global_left']]\n",
    "    closest_columns = closest_column.reset_index(drop=True)\n",
    "\n",
    "    truncated = pd.concat([closest_[['first', 'x', 'global_left']]] * \n",
    "                          len(closest_['first'].unique())).reset_index(drop=True)\n",
    "    \n",
    "    closest_ = pd.concat((truncated, closest_column[['first', 'x', 'global_left']]), axis=1)\n",
    "    closest_.columns = ['first', 'x', 'global_left', 'second', 'y', 'global_right']\n",
    "    closest_ = closest_[['first', 'second', 'x', 'y', 'global_left', 'global_right']]\n",
    "    closest_ = closest_[closest_['x'] != closest_['y']]\n",
    "\n",
    "    deltas_threshold = (closest_['global_left'] - closest_['global_right']) / \\\n",
    "    (closest_['x'] - closest_['y']) * 1. / weight\n",
    "    deltas_threshold = pd.merge(deltas_threshold.to_frame(), closest_[['first', 'second']], \n",
    "                                left_index=True, right_index=True)\n",
    "    \n",
    "    return deltas_threshold\n",
    "    #w_star = \n",
    "\n",
    "def gradient_method(data, weights, global_weights):\n",
    "    \n",
    "    criterion_names = data.columns\n",
    "    size = int(len(criterion_names) // 2) + 1\n",
    "    fig, axes = plt.subplots(size, size, figsize=(12, 8))\n",
    "    \n",
    "    for i, criterion_name in enumerate(criterion_names):\n",
    "    \n",
    "        weights_left = weights.copy()\n",
    "        weights_right = weights.copy()\n",
    "\n",
    "        weights_left[criterion_name] = 0\n",
    "        weights_left /= weights_left.sum()\n",
    "\n",
    "        weights_right[~weights.index.isin({criterion_name})] = 0\n",
    "        weights_right /= weights_right.sum()\n",
    "\n",
    "        weights_alternative_left = weights_distributive(data, weights_left)\n",
    "        weights_alternative_right = weights_distributive(data, weights_right)\n",
    "        weights_to_plot = pd.concat((weights_alternative_left, weights_alternative_right), axis=1)\n",
    "\n",
    "        intersections = [np.linalg.solve(np.array([[(first[2] - first[1]), -1], [(second[2] - second[1]), -1]])\n",
    "                                                   , -np.array([first[1], second[1]])) \\\n",
    "        for first in weights_to_plot.itertuples() for second in weights_to_plot.itertuples() if first != second]\n",
    "        \n",
    "        intersections_all = pd.DataFrame.from_records(((weights_to_plot.index[int(i // 4)], \n",
    "                                    weights_to_plot.index[i % 4], intersections[i][0], intersections[i][1]) \\\n",
    "                                                       for i in range(len(intersections))))\n",
    "        intersections_all = intersections_all.set_index(intersections_all[0], drop=True)\n",
    "        intersections_all = pd.DataFrame(intersections_all.values)\n",
    "        #intersections_all = intersections_all.drop(columns=[0])\n",
    "        intersections_all.columns = ['first', 'second', 'x', 'y']\n",
    "        weights_to_plot['intersection'] = np.array([ (line[2] - line[1]) * weights[criterion_name] + line[1] \\\n",
    "                                                    for line in weights_to_plot.itertuples()])\n",
    "        optimal_alternative = weights_to_plot['intersection'].index[weights_to_plot['intersection'].argmax()]\n",
    "\n",
    "        dist = abs(intersections_all['x'] - weights[criterion_name])\n",
    "        arg_point = np.argmin(dist)\n",
    "        \n",
    "        #print(intersections_all[intersections_all['first'] == optimal_alternative])\n",
    "        dist_optimals = abs(intersections_all[intersections_all['first'] == optimal_alternative]['x'] \n",
    "                                                                            - weights[criterion_name])\n",
    "        arg_opt = dist_optimals[dist_optimals == dist_optimals.min()].index[0]\n",
    "        \n",
    "        val_1 = dist.min() / weights[criterion_name]\n",
    "        val_2 = dist_optimals.min() / weights[criterion_name]\n",
    "        \n",
    "        print(\"-------------------------\")\n",
    "        print(f\"Ступінь чутливості попарного ранжування для {criterion_name}: {val_1}\")\n",
    "        print(f\"Ступінь чутливості оптимального ранжування для {criterion_name}: {val_2}\")\n",
    "       \n",
    "        closest = intersections_all.groupby(by=['first'])\n",
    "        groups = []\n",
    "        for group in closest:\n",
    "        \n",
    "            points = group[1][group[1]['first'] == group[0]][['second', 'x']]\n",
    "            points['first'] = group[0]\n",
    "            points['x'] -= weights[criterion_name]\n",
    "            to_append = points[['first', 'second', 'x']][abs(points['x']) == abs(points['x']).min()].iloc[0] \n",
    "            to_append['x'] += weights[criterion_name]\n",
    "            groups.append(to_append)\n",
    "        \n",
    "        closest = pd.concat(groups, axis=1).T\n",
    "    \n",
    "        deltas_threshold = get_diapasons(weights, global_weights, criterion_name, closest)\n",
    "    \n",
    "        ax = axes[int(i // 2), i % 2]\n",
    "        ax.plot(weights_to_plot.values[:, :-1].T, linestyle='dashed')\n",
    "        ax.scatter(intersections_all['x'], intersections_all['y'], color='red', s=10)\n",
    "        ax.scatter(intersections_all.iloc[arg_point, 2], intersections_all.iloc[arg_point, 3], color='black', s=100)\n",
    "        ax.scatter(intersections_all.iloc[arg_opt, 2], intersections_all.iloc[arg_opt, 3], color='green', s=100)\n",
    "        ax.vlines(weights[criterion_name], 0, 0.4, colors='red')\n",
    "        ax.legend(data.index, loc=4)\n",
    "        fig.suptitle(\"Gradient method\")\n",
    "        ax.set_xlabel(criterion_name)\n",
    "        ax.set_xlim(0, 1)\n",
    "        \n",
    "        print(deltas_threshold)\n",
    "    "
   ]
  },
  {
   "cell_type": "code",
   "execution_count": 32,
   "metadata": {},
   "outputs": [
    {
     "ename": "ValueError",
     "evalue": "cannot reshape array of size 8 into shape (3,2)",
     "output_type": "error",
     "traceback": [
      "\u001b[1;31m---------------------------------------------------------------------------\u001b[0m",
      "\u001b[1;31mValueError\u001b[0m                                Traceback (most recent call last)",
      "\u001b[1;32m<ipython-input-32-f6407f496cde>\u001b[0m in \u001b[0;36m<module>\u001b[1;34m\u001b[0m\n\u001b[1;32m----> 1\u001b[1;33m \u001b[0mglobal_weights\u001b[0m \u001b[1;33m=\u001b[0m \u001b[0mweights_distributive\u001b[0m\u001b[1;33m(\u001b[0m\u001b[0mdata\u001b[0m\u001b[1;33m,\u001b[0m \u001b[0mcriterion_weights\u001b[0m\u001b[1;33m)\u001b[0m\u001b[1;33m\u001b[0m\u001b[1;33m\u001b[0m\u001b[0m\n\u001b[0m\u001b[0;32m      2\u001b[0m \u001b[0mgradient_method\u001b[0m\u001b[1;33m(\u001b[0m\u001b[0mdata\u001b[0m\u001b[1;33m,\u001b[0m \u001b[0mcriterion_weights\u001b[0m\u001b[1;33m,\u001b[0m \u001b[0mglobal_weights\u001b[0m\u001b[1;33m)\u001b[0m\u001b[1;33m\u001b[0m\u001b[1;33m\u001b[0m\u001b[0m\n",
      "\u001b[1;32m<ipython-input-31-1d6734c3951e>\u001b[0m in \u001b[0;36mweights_distributive\u001b[1;34m(data, weights)\u001b[0m\n\u001b[0;32m      2\u001b[0m \u001b[1;33m\u001b[0m\u001b[0m\n\u001b[0;32m      3\u001b[0m     \u001b[0mr\u001b[0m \u001b[1;33m=\u001b[0m \u001b[0mdata\u001b[0m\u001b[1;33m.\u001b[0m\u001b[0msum\u001b[0m\u001b[1;33m(\u001b[0m\u001b[0maxis\u001b[0m\u001b[1;33m=\u001b[0m\u001b[1;36m0\u001b[0m\u001b[1;33m)\u001b[0m\u001b[1;33m\u001b[0m\u001b[1;33m\u001b[0m\u001b[0m\n\u001b[1;32m----> 4\u001b[1;33m     \u001b[0malternative_weights\u001b[0m \u001b[1;33m=\u001b[0m \u001b[1;33m(\u001b[0m\u001b[0mdata\u001b[0m \u001b[1;33m/\u001b[0m \u001b[0mnp\u001b[0m\u001b[1;33m.\u001b[0m\u001b[0mrepeat\u001b[0m\u001b[1;33m(\u001b[0m\u001b[0mr\u001b[0m\u001b[1;33m.\u001b[0m\u001b[0mvalues\u001b[0m\u001b[1;33m,\u001b[0m \u001b[1;36m4\u001b[0m\u001b[1;33m,\u001b[0m \u001b[0maxis\u001b[0m\u001b[1;33m=\u001b[0m\u001b[1;36m0\u001b[0m\u001b[1;33m)\u001b[0m\u001b[1;33m.\u001b[0m\u001b[0mreshape\u001b[0m\u001b[1;33m(\u001b[0m\u001b[1;36m3\u001b[0m\u001b[1;33m,\u001b[0m \u001b[1;36m2\u001b[0m\u001b[1;33m)\u001b[0m\u001b[1;33m)\u001b[0m \u001b[1;33m*\u001b[0m \u001b[0mweights\u001b[0m\u001b[1;33m\u001b[0m\u001b[1;33m\u001b[0m\u001b[0m\n\u001b[0m\u001b[0;32m      5\u001b[0m     \u001b[0malternative_weights\u001b[0m \u001b[1;33m=\u001b[0m \u001b[0malternative_weights\u001b[0m\u001b[1;33m.\u001b[0m\u001b[0msum\u001b[0m\u001b[1;33m(\u001b[0m\u001b[0maxis\u001b[0m\u001b[1;33m=\u001b[0m\u001b[1;36m1\u001b[0m\u001b[1;33m)\u001b[0m\u001b[1;33m\u001b[0m\u001b[1;33m\u001b[0m\u001b[0m\n\u001b[0;32m      6\u001b[0m \u001b[1;33m\u001b[0m\u001b[0m\n",
      "\u001b[1;31mValueError\u001b[0m: cannot reshape array of size 8 into shape (3,2)"
     ]
    }
   ],
   "source": [
    "global_weights = weights_distributive(data, criterion_weights)\n",
    "gradient_method(data, criterion_weights, global_weights)"
   ]
  },
  {
   "cell_type": "code",
   "execution_count": 25,
   "metadata": {},
   "outputs": [
    {
     "data": {
      "text/html": [
       "<div>\n",
       "<style scoped>\n",
       "    .dataframe tbody tr th:only-of-type {\n",
       "        vertical-align: middle;\n",
       "    }\n",
       "\n",
       "    .dataframe tbody tr th {\n",
       "        vertical-align: top;\n",
       "    }\n",
       "\n",
       "    .dataframe thead th {\n",
       "        text-align: right;\n",
       "    }\n",
       "</style>\n",
       "<table border=\"1\" class=\"dataframe\">\n",
       "  <thead>\n",
       "    <tr style=\"text-align: right;\">\n",
       "      <th></th>\n",
       "      <th>Education</th>\n",
       "      <th>Experience</th>\n",
       "    </tr>\n",
       "  </thead>\n",
       "  <tbody>\n",
       "    <tr>\n",
       "      <th>Candidate_1</th>\n",
       "      <td>5</td>\n",
       "      <td>3</td>\n",
       "    </tr>\n",
       "    <tr>\n",
       "      <th>Candidate_2</th>\n",
       "      <td>4</td>\n",
       "      <td>5</td>\n",
       "    </tr>\n",
       "    <tr>\n",
       "      <th>Candidate_3</th>\n",
       "      <td>2</td>\n",
       "      <td>2</td>\n",
       "    </tr>\n",
       "  </tbody>\n",
       "</table>\n",
       "</div>"
      ],
      "text/plain": [
       "             Education  Experience\n",
       "Candidate_1          5           3\n",
       "Candidate_2          4           5\n",
       "Candidate_3          2           2"
      ]
     },
     "execution_count": 25,
     "metadata": {},
     "output_type": "execute_result"
    }
   ],
   "source": [
    "data"
   ]
  },
  {
   "cell_type": "code",
   "execution_count": 26,
   "metadata": {},
   "outputs": [
    {
     "ename": "ValueError",
     "evalue": "cannot reshape array of size 8 into shape (4,3)",
     "output_type": "error",
     "traceback": [
      "\u001b[1;31m---------------------------------------------------------------------------\u001b[0m",
      "\u001b[1;31mValueError\u001b[0m                                Traceback (most recent call last)",
      "\u001b[1;32m<ipython-input-26-d57fd3d1925f>\u001b[0m in \u001b[0;36m<module>\u001b[1;34m\u001b[0m\n\u001b[1;32m----> 1\u001b[1;33m \u001b[0mglobal_weights\u001b[0m \u001b[1;33m=\u001b[0m \u001b[0mweights_distributive\u001b[0m\u001b[1;33m(\u001b[0m\u001b[0mdata\u001b[0m\u001b[1;33m,\u001b[0m \u001b[0mcriterion_weights\u001b[0m\u001b[1;33m)\u001b[0m\u001b[1;33m\u001b[0m\u001b[1;33m\u001b[0m\u001b[0m\n\u001b[0m",
      "\u001b[1;32m<ipython-input-23-1823d0f85bc3>\u001b[0m in \u001b[0;36mweights_distributive\u001b[1;34m(data, weights)\u001b[0m\n\u001b[0;32m      2\u001b[0m \u001b[1;33m\u001b[0m\u001b[0m\n\u001b[0;32m      3\u001b[0m     \u001b[0mr\u001b[0m \u001b[1;33m=\u001b[0m \u001b[0mdata\u001b[0m\u001b[1;33m.\u001b[0m\u001b[0msum\u001b[0m\u001b[1;33m(\u001b[0m\u001b[0maxis\u001b[0m\u001b[1;33m=\u001b[0m\u001b[1;36m0\u001b[0m\u001b[1;33m)\u001b[0m\u001b[1;33m\u001b[0m\u001b[1;33m\u001b[0m\u001b[0m\n\u001b[1;32m----> 4\u001b[1;33m     \u001b[0malternative_weights\u001b[0m \u001b[1;33m=\u001b[0m \u001b[1;33m(\u001b[0m\u001b[0mdata\u001b[0m \u001b[1;33m/\u001b[0m \u001b[0mnp\u001b[0m\u001b[1;33m.\u001b[0m\u001b[0mrepeat\u001b[0m\u001b[1;33m(\u001b[0m\u001b[0mr\u001b[0m\u001b[1;33m.\u001b[0m\u001b[0mvalues\u001b[0m\u001b[1;33m,\u001b[0m \u001b[1;36m4\u001b[0m\u001b[1;33m,\u001b[0m \u001b[0maxis\u001b[0m\u001b[1;33m=\u001b[0m\u001b[1;36m0\u001b[0m\u001b[1;33m)\u001b[0m\u001b[1;33m.\u001b[0m\u001b[0mreshape\u001b[0m\u001b[1;33m(\u001b[0m\u001b[1;36m4\u001b[0m\u001b[1;33m,\u001b[0m \u001b[1;36m3\u001b[0m\u001b[1;33m)\u001b[0m\u001b[1;33m)\u001b[0m \u001b[1;33m*\u001b[0m \u001b[0mweights\u001b[0m\u001b[1;33m\u001b[0m\u001b[1;33m\u001b[0m\u001b[0m\n\u001b[0m\u001b[0;32m      5\u001b[0m     \u001b[0malternative_weights\u001b[0m \u001b[1;33m=\u001b[0m \u001b[0malternative_weights\u001b[0m\u001b[1;33m.\u001b[0m\u001b[0msum\u001b[0m\u001b[1;33m(\u001b[0m\u001b[0maxis\u001b[0m\u001b[1;33m=\u001b[0m\u001b[1;36m1\u001b[0m\u001b[1;33m)\u001b[0m\u001b[1;33m\u001b[0m\u001b[1;33m\u001b[0m\u001b[0m\n\u001b[0;32m      6\u001b[0m \u001b[1;33m\u001b[0m\u001b[0m\n",
      "\u001b[1;31mValueError\u001b[0m: cannot reshape array of size 8 into shape (4,3)"
     ]
    }
   ],
   "source": []
  },
  {
   "cell_type": "code",
   "execution_count": 7,
   "metadata": {},
   "outputs": [],
   "source": [
    "!pip install -q pulp"
   ]
  },
  {
   "cell_type": "markdown",
   "metadata": {},
   "source": [
    "<h1>Fuzzy programming</h1>"
   ]
  },
  {
   "cell_type": "code",
   "execution_count": 8,
   "metadata": {},
   "outputs": [],
   "source": [
    "from pulp import LpMaximize, LpVariable, LpProblem, lpSum, LpStatus\n",
    "from scipy.stats import gmean"
   ]
  },
  {
   "cell_type": "code",
   "execution_count": 9,
   "metadata": {},
   "outputs": [
    {
     "name": "stderr",
     "output_type": "stream",
     "text": [
      "C:\\Users\\User\\anaconda3\\envs\\iasa\\lib\\site-packages\\ipykernel_launcher.py:6: VisibleDeprecationWarning: Creating an ndarray from ragged nested sequences (which is a list-or-tuple of lists-or-tuples-or ndarrays with different lengths or shapes) is deprecated. If you meant to do this, you must specify 'dtype=object' when creating the ndarray\n",
      "  \n"
     ]
    }
   ],
   "source": [
    "values = np.array([\n",
    "    [np.array([1]), np.array([0.5, 4]), np.array([3, 6]), np.array([2, 5]), np.array([3, 9])],\n",
    "    [np.array([0.25, 4]), np.array([1]), np.array([1, 5]), np.array([1, 5]), np.array([2, 6])],\n",
    "    [np.array([1. / 6, 1. / 3]), np.array([0.2, 1]), np.array([1]), np.array([0.5, 4]), np.array([0.5, 5])],\n",
    "    [np.array([0.2, 0.5]), np.array([0.2, 1]), np.array([0.25, 2]), np.array([1]), np.array([0.5, 7])],\n",
    "    [np.array([1. / 9, 1. / 3]), np.array([1. / 6, 0.5]), np.array([0.2, 2]), np.array([1. / 7, 2]), np.array([1])]\n",
    "])\n",
    "\n",
    "data_fuzzy = pd.DataFrame(values)\n",
    "ds = pd.DataFrame(np.ones(values.shape) * 0.5)"
   ]
  },
  {
   "cell_type": "code",
   "execution_count": 10,
   "metadata": {},
   "outputs": [],
   "source": [
    "def build_hist(weights, weights_fuzzy):\n",
    "    \n",
    "    weights_ = weights.reset_index()\n",
    "    weights_['kind'] = 'not fuzzy'\n",
    " \n",
    "    weights_fuzzy_ = weights_fuzzy.reset_index()\n",
    "    weights_fuzzy_['kind'] = 'fuzzy'\n",
    "\n",
    "    weights_to_plot = pd.concat((weights_, weights_fuzzy_), axis=0)\n",
    "    \n",
    "    sns.barplot(data=weights_to_plot, y='weights', x='index', hue='kind')\n",
    "\n",
    "def defuzzify(data_fuzzy):\n",
    "    \n",
    "    data = data_fuzzy.applymap(lambda x: gmean(x))\n",
    "    return data\n",
    "\n",
    "def GMM(data):\n",
    "    \n",
    "    n = data.shape[0]\n",
    "    weights = np.exp(np.log(data.values).sum(axis=1) / n) / n\n",
    "    weights = pd.DataFrame(weights, index=data.index, columns=['weights'])\n",
    "    GCI = np.mean([np.log(data.iloc[i, j] * weights.loc[j] / weights.loc[i]) ** 2 \\\n",
    "                   for i in range(n) for j in range(n) if j > i])\n",
    "    print(f\"GCI={GCI}\")\n",
    "    return weights\n",
    "\n",
    "def rang(data_fuzzy, weights):\n",
    "    \n",
    "    n = data_fuzzy.shape[0]\n",
    "    print(np.array([[ weights.iloc[i] / (weights.iloc[i] + weights.iloc[j])  for j in range(n)] \n",
    "                                      for i in range(n)]))\n",
    "    ro_table = pd.DataFrame(np.array([[ weights.iloc[i] / (weights.iloc[i] + weights.iloc[j])  for j in range(n)] \n",
    "                                      for i in range(n)]))\n",
    "    return ro_table\n",
    "    #rang_table = data_fuzzy.applymap(lambda x: max(1 - max((x[1] - x[0]) / ()))\n",
    "\n",
    "def FPP(data_fuzzy, ds, verbose=False):\n",
    "    \n",
    "    n = data_fuzzy.shape[1]\n",
    "    \n",
    "    model = LpProblem(\"FPP\", sense=LpMaximize)\n",
    "    \n",
    "    lam = LpVariable('lambda', lowBound=0, upBound=1)\n",
    "    w = [LpVariable(f'w_{i + 1}', lowBound=0, upBound=1) for i in range(0, len(ds))]\n",
    "    \n",
    "    [print(k, i, j) \\\n",
    "                for i in range(n) for j in range(n) for k in range(2) if i > j]\n",
    "    \n",
    "    print(len(w))\n",
    "    print(n, ds.shape, data_fuzzy.shape)\n",
    "    lr_ineq = [ds.iloc[i, j] * lam + w[i] - data_fuzzy.iloc[i, j][1] * w[j] <= ds.iloc[i, j] if k == 0 \\\n",
    "                   else ds.iloc[i, j] * lam - w[i] + data_fuzzy.iloc[i, j][0] * w[j] <= ds.iloc[i, j] \\\n",
    "                   for i in range(n) for j in range(n) for k in range(2) if i < j]\n",
    "    \n",
    "    if verbose:\n",
    "        for ineq in lr_ineq:\n",
    "            print(f\"subjected to {ineq};\")\n",
    "        \n",
    "    constraint_sum = lpSum(w) == 1\n",
    "    obj_func = lam\n",
    "    \n",
    "    for constraint in lr_ineq:\n",
    "        model += constraint\n",
    "        \n",
    "    model += constraint_sum\n",
    "    model += obj_func\n",
    "    \n",
    "    status = model.solve()\n",
    "    \n",
    "    summed = 0\n",
    "    \n",
    "    if verbose:  \n",
    "        print(LpStatus[status])\n",
    "        for var in w:\n",
    "            print(f\"{var.name}: {var.value()};\")\n",
    "            summed += var.value()\n",
    "        print(f\"optimal value {lam.value()}\")\n",
    "\n",
    "    w_fuzzy = pd.DataFrame([weight.value() for weight in w], index=data_fuzzy.index, columns=['weights'])\n",
    "    CI = lam.value()\n",
    "    print(f\"CI={CI}\")\n",
    "    \n",
    "    return w_fuzzy    "
   ]
  },
  {
   "cell_type": "code",
   "execution_count": 11,
   "metadata": {},
   "outputs": [
    {
     "data": {
      "text/html": [
       "<div>\n",
       "<style scoped>\n",
       "    .dataframe tbody tr th:only-of-type {\n",
       "        vertical-align: middle;\n",
       "    }\n",
       "\n",
       "    .dataframe tbody tr th {\n",
       "        vertical-align: top;\n",
       "    }\n",
       "\n",
       "    .dataframe thead th {\n",
       "        text-align: right;\n",
       "    }\n",
       "</style>\n",
       "<table border=\"1\" class=\"dataframe\">\n",
       "  <thead>\n",
       "    <tr style=\"text-align: right;\">\n",
       "      <th></th>\n",
       "      <th>0</th>\n",
       "      <th>1</th>\n",
       "      <th>2</th>\n",
       "      <th>3</th>\n",
       "      <th>4</th>\n",
       "    </tr>\n",
       "  </thead>\n",
       "  <tbody>\n",
       "    <tr>\n",
       "      <th>0</th>\n",
       "      <td>[1]</td>\n",
       "      <td>[0.5, 4.0]</td>\n",
       "      <td>[3, 6]</td>\n",
       "      <td>[2, 5]</td>\n",
       "      <td>[3, 9]</td>\n",
       "    </tr>\n",
       "    <tr>\n",
       "      <th>1</th>\n",
       "      <td>[0.25, 4.0]</td>\n",
       "      <td>[1]</td>\n",
       "      <td>[1, 5]</td>\n",
       "      <td>[1, 5]</td>\n",
       "      <td>[2, 6]</td>\n",
       "    </tr>\n",
       "    <tr>\n",
       "      <th>2</th>\n",
       "      <td>[0.16666666666666666, 0.3333333333333333]</td>\n",
       "      <td>[0.2, 1.0]</td>\n",
       "      <td>[1]</td>\n",
       "      <td>[0.5, 4.0]</td>\n",
       "      <td>[0.5, 5.0]</td>\n",
       "    </tr>\n",
       "    <tr>\n",
       "      <th>3</th>\n",
       "      <td>[0.2, 0.5]</td>\n",
       "      <td>[0.2, 1.0]</td>\n",
       "      <td>[0.25, 2.0]</td>\n",
       "      <td>[1]</td>\n",
       "      <td>[0.5, 7.0]</td>\n",
       "    </tr>\n",
       "    <tr>\n",
       "      <th>4</th>\n",
       "      <td>[0.1111111111111111, 0.3333333333333333]</td>\n",
       "      <td>[0.16666666666666666, 0.5]</td>\n",
       "      <td>[0.2, 2.0]</td>\n",
       "      <td>[0.14285714285714285, 2.0]</td>\n",
       "      <td>[1]</td>\n",
       "    </tr>\n",
       "  </tbody>\n",
       "</table>\n",
       "</div>"
      ],
      "text/plain": [
       "                                           0                           1  \\\n",
       "0                                        [1]                  [0.5, 4.0]   \n",
       "1                                [0.25, 4.0]                         [1]   \n",
       "2  [0.16666666666666666, 0.3333333333333333]                  [0.2, 1.0]   \n",
       "3                                 [0.2, 0.5]                  [0.2, 1.0]   \n",
       "4   [0.1111111111111111, 0.3333333333333333]  [0.16666666666666666, 0.5]   \n",
       "\n",
       "             2                           3           4  \n",
       "0       [3, 6]                      [2, 5]      [3, 9]  \n",
       "1       [1, 5]                      [1, 5]      [2, 6]  \n",
       "2          [1]                  [0.5, 4.0]  [0.5, 5.0]  \n",
       "3  [0.25, 2.0]                         [1]  [0.5, 7.0]  \n",
       "4   [0.2, 2.0]  [0.14285714285714285, 2.0]         [1]  "
      ]
     },
     "execution_count": 11,
     "metadata": {},
     "output_type": "execute_result"
    }
   ],
   "source": [
    "data_fuzzy"
   ]
  },
  {
   "cell_type": "code",
   "execution_count": 12,
   "metadata": {},
   "outputs": [],
   "source": [
    "# values = np.array([\n",
    "#     [np.array([1]), np.array([2, 3]), np.array([3, 5]), np.array([4, 7])],\n",
    "#     [np.array([1. / 3, 1. / 2]), np.array([1]), np.array([1, 2]), np.array([3, 4])],\n",
    "#     [np.array([1. / 5, 1. / 3]), np.array([1. / 2, 1]), np.array([1]), np.array([2, 4])],\n",
    "#     [np.array([1. / 7, 1. / 4]), np.array([1. / 4, 1. / 3]), np.array([1. / 4, 1. / 2]), np.array([1])]\n",
    "# ])\n",
    "\n",
    "# data_fuzzy_test = pd.DataFrame(values)\n",
    "# ds = pd.DataFrame(np.ones(values.shape) * 0.5)\n",
    "\n",
    "# data_fuzzy_test"
   ]
  },
  {
   "attachments": {
    "image.png": {
     "image/png": "[encoded data removed]"
    }
   },
   "cell_type": "markdown",
   "metadata": {},
   "source": [
    "![image.png](attachment:image.png)"
   ]
  },
  {
   "cell_type": "code",
   "execution_count": null,
   "metadata": {},
   "outputs": [],
   "source": []
  },
  {
   "cell_type": "code",
   "execution_count": 13,
   "metadata": {},
   "outputs": [
    {
     "name": "stdout",
     "output_type": "stream",
     "text": [
      "0 1 0\n",
      "1 1 0\n",
      "0 2 0\n",
      "1 2 0\n",
      "0 2 1\n",
      "1 2 1\n",
      "0 3 0\n",
      "1 3 0\n",
      "0 3 1\n",
      "1 3 1\n",
      "0 3 2\n",
      "1 3 2\n",
      "0 4 0\n",
      "1 4 0\n",
      "0 4 1\n",
      "1 4 1\n",
      "0 4 2\n",
      "1 4 2\n",
      "0 4 3\n",
      "1 4 3\n",
      "5\n",
      "5 (5, 5) (5, 5)\n",
      "subjected to 0.5*lambda + w_1 - 4.0*w_2 <= 0.5;\n",
      "subjected to 0.5*lambda - w_1 + 0.5*w_2 <= 0.5;\n",
      "subjected to 0.5*lambda + w_1 - 6*w_3 <= 0.5;\n",
      "subjected to 0.5*lambda - w_1 + 3*w_3 <= 0.5;\n",
      "subjected to 0.5*lambda + w_1 - 5*w_4 <= 0.5;\n",
      "subjected to 0.5*lambda - w_1 + 2*w_4 <= 0.5;\n",
      "subjected to 0.5*lambda + w_1 - 9*w_5 <= 0.5;\n",
      "subjected to 0.5*lambda - w_1 + 3*w_5 <= 0.5;\n",
      "subjected to 0.5*lambda + w_2 - 5*w_3 <= 0.5;\n",
      "subjected to 0.5*lambda - w_2 + w_3 <= 0.5;\n",
      "subjected to 0.5*lambda + w_2 - 5*w_4 <= 0.5;\n",
      "subjected to 0.5*lambda - w_2 + w_4 <= 0.5;\n",
      "subjected to 0.5*lambda + w_2 - 6*w_5 <= 0.5;\n",
      "subjected to 0.5*lambda - w_2 + 2*w_5 <= 0.5;\n",
      "subjected to 0.5*lambda + w_3 - 4.0*w_4 <= 0.5;\n",
      "subjected to 0.5*lambda - w_3 + 0.5*w_4 <= 0.5;\n",
      "subjected to 0.5*lambda + w_3 - 5.0*w_5 <= 0.5;\n",
      "subjected to 0.5*lambda - w_3 + 0.5*w_5 <= 0.5;\n",
      "subjected to 0.5*lambda + w_4 - 7.0*w_5 <= 0.5;\n",
      "subjected to 0.5*lambda - w_4 + 0.5*w_5 <= 0.5;\n",
      "Optimal\n",
      "w_1: 0.57877814;\n",
      "w_2: 0.14469453;\n",
      "w_3: 0.096463023;\n",
      "w_4: 0.11575563;\n",
      "w_5: 0.064308682;\n",
      "optimal value 1.0\n",
      "CI=1.0\n"
     ]
    }
   ],
   "source": [
    "weights_fuzzy = FPP(data_fuzzy, ds, True)"
   ]
  },
  {
   "cell_type": "code",
   "execution_count": 14,
   "metadata": {},
   "outputs": [
    {
     "name": "stdout",
     "output_type": "stream",
     "text": [
      "GCI=0.021986976716159512\n"
     ]
    }
   ],
   "source": [
    "data = defuzzify(data_fuzzy)\n",
    "weights = GMM(data)"
   ]
  },
  {
   "cell_type": "code",
   "execution_count": 15,
   "metadata": {},
   "outputs": [
    {
     "data": {
      "text/html": [
       "<div>\n",
       "<style scoped>\n",
       "    .dataframe tbody tr th:only-of-type {\n",
       "        vertical-align: middle;\n",
       "    }\n",
       "\n",
       "    .dataframe tbody tr th {\n",
       "        vertical-align: top;\n",
       "    }\n",
       "\n",
       "    .dataframe thead th {\n",
       "        text-align: right;\n",
       "    }\n",
       "</style>\n",
       "<table border=\"1\" class=\"dataframe\">\n",
       "  <thead>\n",
       "    <tr style=\"text-align: right;\">\n",
       "      <th></th>\n",
       "      <th>weights</th>\n",
       "      <th>weights</th>\n",
       "    </tr>\n",
       "  </thead>\n",
       "  <tbody>\n",
       "    <tr>\n",
       "      <th>0</th>\n",
       "      <td>0.500953</td>\n",
       "      <td>0.578778</td>\n",
       "    </tr>\n",
       "    <tr>\n",
       "      <th>1</th>\n",
       "      <td>0.353787</td>\n",
       "      <td>0.144695</td>\n",
       "    </tr>\n",
       "    <tr>\n",
       "      <th>2</th>\n",
       "      <td>0.149797</td>\n",
       "      <td>0.096463</td>\n",
       "    </tr>\n",
       "    <tr>\n",
       "      <th>3</th>\n",
       "      <td>0.143033</td>\n",
       "      <td>0.115756</td>\n",
       "    </tr>\n",
       "    <tr>\n",
       "      <th>4</th>\n",
       "      <td>0.090318</td>\n",
       "      <td>0.064309</td>\n",
       "    </tr>\n",
       "  </tbody>\n",
       "</table>\n",
       "</div>"
      ],
      "text/plain": [
       "    weights   weights\n",
       "0  0.500953  0.578778\n",
       "1  0.353787  0.144695\n",
       "2  0.149797  0.096463\n",
       "3  0.143033  0.115756\n",
       "4  0.090318  0.064309"
      ]
     },
     "execution_count": 15,
     "metadata": {},
     "output_type": "execute_result"
    }
   ],
   "source": [
    "pd.concat((weights, weights_fuzzy), axis=1)"
   ]
  },
  {
   "cell_type": "code",
   "execution_count": 16,
   "metadata": {},
   "outputs": [
    {
     "data": {
      "text/html": [
       "<div>\n",
       "<style scoped>\n",
       "    .dataframe tbody tr th:only-of-type {\n",
       "        vertical-align: middle;\n",
       "    }\n",
       "\n",
       "    .dataframe tbody tr th {\n",
       "        vertical-align: top;\n",
       "    }\n",
       "\n",
       "    .dataframe thead th {\n",
       "        text-align: right;\n",
       "    }\n",
       "</style>\n",
       "<table border=\"1\" class=\"dataframe\">\n",
       "  <thead>\n",
       "    <tr style=\"text-align: right;\">\n",
       "      <th></th>\n",
       "      <th>0</th>\n",
       "      <th>1</th>\n",
       "      <th>2</th>\n",
       "      <th>3</th>\n",
       "      <th>4</th>\n",
       "    </tr>\n",
       "  </thead>\n",
       "  <tbody>\n",
       "    <tr>\n",
       "      <th>0</th>\n",
       "      <td>1.000000</td>\n",
       "      <td>1.414214</td>\n",
       "      <td>4.242641</td>\n",
       "      <td>3.162278</td>\n",
       "      <td>5.196152</td>\n",
       "    </tr>\n",
       "    <tr>\n",
       "      <th>1</th>\n",
       "      <td>1.000000</td>\n",
       "      <td>1.000000</td>\n",
       "      <td>2.236068</td>\n",
       "      <td>2.236068</td>\n",
       "      <td>3.464102</td>\n",
       "    </tr>\n",
       "    <tr>\n",
       "      <th>2</th>\n",
       "      <td>0.235702</td>\n",
       "      <td>0.447214</td>\n",
       "      <td>1.000000</td>\n",
       "      <td>1.414214</td>\n",
       "      <td>1.581139</td>\n",
       "    </tr>\n",
       "    <tr>\n",
       "      <th>3</th>\n",
       "      <td>0.316228</td>\n",
       "      <td>0.447214</td>\n",
       "      <td>0.707107</td>\n",
       "      <td>1.000000</td>\n",
       "      <td>1.870829</td>\n",
       "    </tr>\n",
       "    <tr>\n",
       "      <th>4</th>\n",
       "      <td>0.192450</td>\n",
       "      <td>0.288675</td>\n",
       "      <td>0.632456</td>\n",
       "      <td>0.534522</td>\n",
       "      <td>1.000000</td>\n",
       "    </tr>\n",
       "  </tbody>\n",
       "</table>\n",
       "</div>"
      ],
      "text/plain": [
       "          0         1         2         3         4\n",
       "0  1.000000  1.414214  4.242641  3.162278  5.196152\n",
       "1  1.000000  1.000000  2.236068  2.236068  3.464102\n",
       "2  0.235702  0.447214  1.000000  1.414214  1.581139\n",
       "3  0.316228  0.447214  0.707107  1.000000  1.870829\n",
       "4  0.192450  0.288675  0.632456  0.534522  1.000000"
      ]
     },
     "execution_count": 16,
     "metadata": {},
     "output_type": "execute_result"
    }
   ],
   "source": [
    "data"
   ]
  },
  {
   "cell_type": "code",
   "execution_count": 17,
   "metadata": {},
   "outputs": [
    {
     "data": {
      "image/png": "[encoded data removed]",
      "text/plain": [
       "<Figure size 432x288 with 1 Axes>"
      ]
     },
     "metadata": {
      "needs_background": "light"
     },
     "output_type": "display_data"
    }
   ],
   "source": [
    "build_hist(weights, weights_fuzzy)"
   ]
  },
  {
   "cell_type": "code",
   "execution_count": null,
   "metadata": {},
   "outputs": [],
   "source": []
  },
  {
   "cell_type": "code",
   "execution_count": null,
   "metadata": {
    "scrolled": true
   },
   "outputs": [],
   "source": []
  },
  {
   "cell_type": "code",
   "execution_count": null,
   "metadata": {},
   "outputs": [],
   "source": []
  }
 ],
 "metadata": {
  "kernelspec": {
   "display_name": "Python 3",
   "language": "python",
   "name": "python3"
  },
  "language_info": {
   "codemirror_mode": {
    "name": "ipython",
    "version": 3
   },
   "file_extension": ".py",
   "mimetype": "text/x-python",
   "name": "python",
   "nbconvert_exporter": "python",
   "pygments_lexer": "ipython3",
   "version": "3.7.9"
  }
 },
 "nbformat": 4,
 "nbformat_minor": 4
}
